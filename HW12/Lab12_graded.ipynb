{
 "cells": [
  {
   "cell_type": "code",
   "execution_count": 1,
   "metadata": {
    "colab": {
     "base_uri": "https://localhost:8080/",
     "height": 80
    },
    "colab_type": "code",
    "id": "h4wdLvffnWBg",
    "outputId": "714b334c-bbca-4d81-df80-95874dfc7a50"
   },
   "outputs": [],
   "source": [
    "import tensorflow as tf"
   ]
  },
  {
   "cell_type": "code",
   "execution_count": 2,
   "metadata": {
    "colab": {},
    "colab_type": "code",
    "id": "wIhsN_yinZdv"
   },
   "outputs": [],
   "source": [
    "from tensorflow import keras\n",
    "import pylab as pl\n",
    "import numpy as np\n",
    "np.random.seed(123)"
   ]
  },
  {
   "cell_type": "markdown",
   "metadata": {
    "colab_type": "text",
    "id": "2JOcJIRf9t-s"
   },
   "source": [
    "# 1 Getting the data: standard handwritten digit recognition task"
   ]
  },
  {
   "cell_type": "code",
   "execution_count": 3,
   "metadata": {
    "colab": {
     "base_uri": "https://localhost:8080/",
     "height": 51
    },
    "colab_type": "code",
    "id": "lN5a2wjjnb0q",
    "outputId": "88cbd970-c8d0-4653-98e1-07fedc88a9f2"
   },
   "outputs": [],
   "source": [
    "(train_input, train_labels), (test_input, test_labels) = keras.datasets.mnist.load_data()"
   ]
  },
  {
   "cell_type": "markdown",
   "metadata": {
    "colab_type": "text",
    "id": "z3S03Rda91vM"
   },
   "source": [
    "# 2 understand the input data\n",
    "\n",
    "# task 1: print the shape of the train input and train labels\n"
   ]
  },
  {
   "cell_type": "code",
   "execution_count": 4,
   "metadata": {
    "colab": {
     "base_uri": "https://localhost:8080/",
     "height": 34
    },
    "colab_type": "code",
    "id": "mC2EN5asejl0",
    "outputId": "0f3ee190-bb2f-4bcd-e853-772f7d079c8f"
   },
   "outputs": [
    {
     "data": {
      "text/plain": [
       "((60000, 28, 28), (60000,))"
      ]
     },
     "execution_count": 4,
     "metadata": {},
     "output_type": "execute_result"
    }
   ],
   "source": [
    "train_input.shape, train_labels.shape\n"
   ]
  },
  {
   "cell_type": "markdown",
   "metadata": {
    "colab_type": "text",
    "id": "L31stKTvekWm"
   },
   "source": [
    "\n",
    "# task 2: print the label of the 10th observation\n"
   ]
  },
  {
   "cell_type": "code",
   "execution_count": 5,
   "metadata": {
    "colab": {
     "base_uri": "https://localhost:8080/",
     "height": 34
    },
    "colab_type": "code",
    "id": "DIBUmoKHet96",
    "outputId": "b1e4a36d-7490-4014-eb0c-0689d9ef176f"
   },
   "outputs": [
    {
     "data": {
      "text/plain": [
       "4"
      ]
     },
     "execution_count": 5,
     "metadata": {},
     "output_type": "execute_result"
    }
   ],
   "source": [
    "train_labels[9]"
   ]
  },
  {
   "cell_type": "markdown",
   "metadata": {
    "colab_type": "text",
    "id": "WASXUrJeeue7"
   },
   "source": [
    "# task 3: what is the shape of train_input 1?\n"
   ]
  },
  {
   "cell_type": "code",
   "execution_count": 6,
   "metadata": {
    "colab": {
     "base_uri": "https://localhost:8080/",
     "height": 34
    },
    "colab_type": "code",
    "id": "r21VtFS-e7ke",
    "outputId": "d02d9f44-388d-42e7-d33d-0ccad032baeb"
   },
   "outputs": [
    {
     "data": {
      "text/plain": [
       "(28, 28)"
      ]
     },
     "execution_count": 6,
     "metadata": {},
     "output_type": "execute_result"
    }
   ],
   "source": [
    "train_input[1].shape"
   ]
  },
  {
   "cell_type": "markdown",
   "metadata": {
    "colab_type": "text",
    "id": "pxKeeguGe6L5"
   },
   "source": [
    "# task 4: plot train_input 1\n"
   ]
  },
  {
   "cell_type": "code",
   "execution_count": 7,
   "metadata": {
    "colab": {
     "base_uri": "https://localhost:8080/",
     "height": 282
    },
    "colab_type": "code",
    "id": "4hcZyiOGe-NQ",
    "outputId": "30a232dc-5241-470d-8270-8621457424d0"
   },
   "outputs": [
    {
     "data": {
      "text/plain": [
       "<matplotlib.image.AxesImage at 0x139e4ff98>"
      ]
     },
     "execution_count": 7,
     "metadata": {},
     "output_type": "execute_result"
    },
    {
     "data": {
      "image/png": "[encoded data removed]",
      "text/plain": [
       "<Figure size 432x288 with 1 Axes>"
      ]
     },
     "metadata": {
      "needs_background": "light"
     },
     "output_type": "display_data"
    }
   ],
   "source": [
    "pl.imshow(train_input[1], cmap='gray')"
   ]
  },
  {
   "cell_type": "markdown",
   "metadata": {
    "colab_type": "text",
    "id": "Y7ufT9P5ff2e"
   },
   "source": [
    "Figure 1. The first element in train_input. It's a 2D image."
   ]
  },
  {
   "cell_type": "markdown",
   "metadata": {
    "colab_type": "text",
    "id": "lUKQ0gxv-RyV"
   },
   "source": [
    "# 3 Create the model\n",
    "\n",
    "# task 5: create a model with 3 layers: input layer and 2 fully connected layers with 128 and 10 neurons respectively"
   ]
  },
  {
   "cell_type": "code",
   "execution_count": 10,
   "metadata": {
    "colab": {},
    "colab_type": "code",
    "id": "sRvt_FxxJzsS"
   },
   "outputs": [],
   "source": [
    "Nh1 = 128\n",
    "Nout = 10\n",
    "model = keras.Sequential([keras.layers.Flatten(data_format='channels_first'),\n",
    "                          keras.layers.Dense(Nh1, activation=tf.nn.sigmoid), \n",
    "                          keras.layers.Dense(Nout, activation=tf.nn.softmax) ])\n"
   ]
  },
  {
   "cell_type": "markdown",
   "metadata": {
    "colab_type": "text",
    "id": "kqhAMKMpohZy"
   },
   "source": [
    "# 4 set the hyperparameters\n",
    "# task 6: set a learning rate of 0.01, a loss function \"sparse_categorical_crossentropy\" and set the metric to \"accuracy\n",
    "                                              "
   ]
  },
  {
   "cell_type": "code",
   "execution_count": 0,
   "metadata": {
    "colab": {},
    "colab_type": "code",
    "id": "zPhqtfuyneAl"
   },
   "outputs": [],
   "source": [
    "model.compile?"
   ]
  },
  {
   "cell_type": "code",
   "execution_count": 12,
   "metadata": {
    "colab": {},
    "colab_type": "code",
    "id": "ONkeJ_5Ef28R"
   },
   "outputs": [],
   "source": [
    "model.compile(optimizer=keras.optimizers.SGD(lr=0.01),\n",
    "              loss=keras.losses.sparse_categorical_crossentropy, \n",
    "              metrics=['accuracy'])"
   ]
  },
  {
   "cell_type": "code",
   "execution_count": 13,
   "metadata": {
    "colab": {
     "base_uri": "https://localhost:8080/",
     "height": 221
    },
    "colab_type": "code",
    "id": "DgQYW5bap06u",
    "outputId": "52c4d344-d83d-45c8-b573-456e35d5f9d8"
   },
   "outputs": [
    {
     "name": "stdout",
     "output_type": "stream",
     "text": [
      "Epoch 1/5\n",
      "60000/60000 [==============================] - 11s 184us/sample - loss: 1.4324 - acc: 0.6929\n",
      "Epoch 2/5\n",
      "60000/60000 [==============================] - 10s 173us/sample - loss: 0.7015 - acc: 0.8451\n",
      "Epoch 3/5\n",
      "60000/60000 [==============================] - 11s 177us/sample - loss: 0.5246 - acc: 0.8718\n",
      "Epoch 4/5\n",
      "60000/60000 [==============================] - 11s 179us/sample - loss: 0.4496 - acc: 0.8840 - loss: 0.4501 - acc: 0\n",
      "Epoch 5/5\n",
      "60000/60000 [==============================] - 11s 187us/sample - loss: 0.4077 - acc: 0.8908\n"
     ]
    },
    {
     "data": {
      "text/plain": [
       "<tensorflow.python.keras.callbacks.History at 0x139f46c18>"
      ]
     },
     "execution_count": 13,
     "metadata": {},
     "output_type": "execute_result"
    }
   ],
   "source": [
    "X = train_input / 256.\n",
    "#X = X.reshape(60000, Nh0)\n",
    "\n",
    "model.fit(X, train_labels, epochs=5)"
   ]
  },
  {
   "cell_type": "markdown",
   "metadata": {
    "colab_type": "text",
    "id": "cm-dUAzQ_Lq3"
   },
   "source": [
    "# Task 7: evaluate the model"
   ]
  },
  {
   "cell_type": "code",
   "execution_count": 14,
   "metadata": {
    "colab": {
     "base_uri": "https://localhost:8080/",
     "height": 34
    },
    "colab_type": "code",
    "id": "zxecyD5oqGTj",
    "outputId": "0c74cdc2-a557-43d6-e22f-a0ab66a4715c"
   },
   "outputs": [
    {
     "name": "stdout",
     "output_type": "stream",
     "text": [
      "10000/10000 [==============================] - 1s 85us/sample - loss: 0.3747 - acc: 0.8990\n"
     ]
    }
   ],
   "source": [
    "test_loss, test_acc = model.evaluate(test_input/256., test_labels)"
   ]
  },
  {
   "cell_type": "markdown",
   "metadata": {},
   "source": [
    "The model achieves an accuracy score 0.899 on test set, which is close to the score on train set. The model is not overfitting."
   ]
  },
  {
   "cell_type": "markdown",
   "metadata": {
    "colab_type": "text",
    "id": "vACTcept_Xx8"
   },
   "source": [
    "# task 8 plot the 10'th test observation and its label and prediction"
   ]
  },
  {
   "cell_type": "code",
   "execution_count": 15,
   "metadata": {
    "colab": {},
    "colab_type": "code",
    "id": "MpLSNg9Fugf5"
   },
   "outputs": [],
   "source": [
    "X_test = test_input/256.\n",
    "pred_matrix = model.predict(X_test)\n",
    "pred = np.argmax(pred_matrix, axis=1)"
   ]
  },
  {
   "cell_type": "code",
   "execution_count": 16,
   "metadata": {
    "colab": {
     "base_uri": "https://localhost:8080/",
     "height": 51
    },
    "colab_type": "code",
    "id": "Z0LJXDRXxMbr",
    "outputId": "db12b714-c3c0-4ea9-a855-675095922b08",
    "scrolled": true
   },
   "outputs": [
    {
     "name": "stdout",
     "output_type": "stream",
     "text": [
      "The label of 10th test observation is 9.\n",
      "The prediction of 10th test observation is 9.\n"
     ]
    }
   ],
   "source": [
    "# label and prediction of 10th test observation\n",
    "print('The label of 10th test observation is {}.'.format(test_labels[9]) )\n",
    "print('The prediction of 10th test observation is {}.'.format( pred[9] ))\n"
   ]
  },
  {
   "cell_type": "code",
   "execution_count": 17,
   "metadata": {
    "colab": {
     "base_uri": "https://localhost:8080/",
     "height": 282
    },
    "colab_type": "code",
    "id": "R8gUnQaGARqW",
    "outputId": "824caced-1fda-45f5-d119-22ef1f926cd8"
   },
   "outputs": [
    {
     "data": {
      "text/plain": [
       "<matplotlib.image.AxesImage at 0x15ba31c50>"
      ]
     },
     "execution_count": 17,
     "metadata": {},
     "output_type": "execute_result"
    },
    {
     "data": {
      "image/png": "[encoded data removed]",
      "text/plain": [
       "<Figure size 432x288 with 1 Axes>"
      ]
     },
     "metadata": {
      "needs_background": "light"
     },
     "output_type": "display_data"
    }
   ],
   "source": [
    "pl.imshow(X_test[9], cmap='gray')\n"
   ]
  },
  {
   "cell_type": "markdown",
   "metadata": {},
   "source": [
    "Figure 2. The 10th test sample, the prediction is the same as the label."
   ]
  },
  {
   "cell_type": "markdown",
   "metadata": {
    "colab_type": "text",
    "id": "2mzWVo9yJhY9"
   },
   "source": [
    "# task 9: find the first wrong prediction in the test set"
   ]
  },
  {
   "cell_type": "code",
   "execution_count": 18,
   "metadata": {
    "scrolled": true
   },
   "outputs": [
    {
     "data": {
      "text/plain": [
       "array([7, 2, 1, ..., 4, 5, 6], dtype=uint8)"
      ]
     },
     "execution_count": 18,
     "metadata": {},
     "output_type": "execute_result"
    }
   ],
   "source": [
    "test_labels"
   ]
  },
  {
   "cell_type": "code",
   "execution_count": 19,
   "metadata": {
    "colab": {
     "base_uri": "https://localhost:8080/",
     "height": 34
    },
    "colab_type": "code",
    "id": "cruV1n7CJaBI",
    "outputId": "b5a3f9c9-5af8-4395-ef98-04ce20311f6a"
   },
   "outputs": [
    {
     "data": {
      "text/plain": [
       "array([7, 2, 1, ..., 4, 5, 6])"
      ]
     },
     "execution_count": 19,
     "metadata": {},
     "output_type": "execute_result"
    }
   ],
   "source": [
    "pred"
   ]
  },
  {
   "cell_type": "code",
   "execution_count": 20,
   "metadata": {
    "colab": {
     "base_uri": "https://localhost:8080/",
     "height": 34
    },
    "colab_type": "code",
    "id": "Cp0SsUkTzebS",
    "outputId": "f69fc7bc-8050-4bc9-b53f-6cd1fafeee2d"
   },
   "outputs": [
    {
     "data": {
      "text/plain": [
       "8"
      ]
     },
     "execution_count": 20,
     "metadata": {},
     "output_type": "execute_result"
    }
   ],
   "source": [
    "# find the first wrong prediction \n",
    "\n",
    "np.where( (test_labels - pred)!=0 )[0][0]"
   ]
  },
  {
   "cell_type": "markdown",
   "metadata": {},
   "source": [
    "The index of the first wrong prediction is 8."
   ]
  },
  {
   "cell_type": "code",
   "execution_count": 21,
   "metadata": {
    "colab": {
     "base_uri": "https://localhost:8080/",
     "height": 34
    },
    "colab_type": "code",
    "id": "9grhB-hD3P1I",
    "outputId": "bf4f53de-71b3-4e14-f93f-006c00c54022"
   },
   "outputs": [
    {
     "data": {
      "text/plain": [
       "(5, 6)"
      ]
     },
     "execution_count": 21,
     "metadata": {},
     "output_type": "execute_result"
    }
   ],
   "source": [
    "test_labels[8], pred[8]"
   ]
  },
  {
   "cell_type": "code",
   "execution_count": 22,
   "metadata": {
    "colab": {
     "base_uri": "https://localhost:8080/",
     "height": 282
    },
    "colab_type": "code",
    "id": "VKae-TVp3VSj",
    "outputId": "6bab9179-1f7b-4a9f-e7cf-50af9c148712",
    "scrolled": true
   },
   "outputs": [
    {
     "data": {
      "text/plain": [
       "<matplotlib.image.AxesImage at 0x15f7e3a90>"
      ]
     },
     "execution_count": 22,
     "metadata": {},
     "output_type": "execute_result"
    },
    {
     "data": {
      "image/png": "[encoded data removed]",
      "text/plain": [
       "<Figure size 432x288 with 1 Axes>"
      ]
     },
     "metadata": {
      "needs_background": "light"
     },
     "output_type": "display_data"
    }
   ],
   "source": [
    "pl.imshow(test_input[8], cmap='gray')"
   ]
  },
  {
   "cell_type": "markdown",
   "metadata": {},
   "source": [
    "Figure 3. The first wrong prediction. The prediction is 6 but labeled as 5."
   ]
  },
  {
   "cell_type": "markdown",
   "metadata": {
    "colab_type": "text",
    "id": "70vRSuntyBRS"
   },
   "source": [
    "# task 10: create a more complex model by adding 3 fully connected layers (you choose the size). Retrain and test the accuracy of prediction and discuss if the model is overfitting"
   ]
  },
  {
   "cell_type": "code",
   "execution_count": 35,
   "metadata": {
    "colab": {},
    "colab_type": "code",
    "id": "-SUUN-6dyA0y"
   },
   "outputs": [],
   "source": [
    "Nh1 = 128\n",
    "Nh2 = 64\n",
    "Nh3 = 32\n",
    "Nh4 = 16\n",
    "Nout = 10\n",
    "\n",
    "model_5layer = keras.Sequential([keras.layers.Flatten(data_format='channels_first'),\n",
    "                          keras.layers.Dense(Nh1, activation=tf.nn.sigmoid), \n",
    "                          keras.layers.Dense(Nh2, activation=tf.nn.sigmoid),\n",
    "                          keras.layers.Dense(Nh3, activation=tf.nn.sigmoid),\n",
    "                          keras.layers.Dense(Nh4, activation=tf.nn.sigmoid),\n",
    "                          keras.layers.Dense(Nout, activation=tf.nn.softmax)], )\n"
   ]
  },
  {
   "cell_type": "code",
   "execution_count": 36,
   "metadata": {
    "colab": {},
    "colab_type": "code",
    "id": "tWNL4g3731t7"
   },
   "outputs": [],
   "source": [
    "model_5layer.compile(optimizer=keras.optimizers.SGD(lr=0.2),\n",
    "              loss=keras.losses.sparse_categorical_crossentropy, \n",
    "              metrics=['accuracy'])\n"
   ]
  },
  {
   "cell_type": "code",
   "execution_count": 37,
   "metadata": {
    "colab": {},
    "colab_type": "code",
    "id": "SBfoLbfR33PH",
    "scrolled": true
   },
   "outputs": [
    {
     "name": "stdout",
     "output_type": "stream",
     "text": [
      "Epoch 1/5\n",
      "60000/60000 [==============================] - 13s 213us/sample - loss: 2.0482 - acc: 0.2285\n",
      "Epoch 2/5\n",
      "60000/60000 [==============================] - 15s 244us/sample - loss: 0.7361 - acc: 0.7659\n",
      "Epoch 3/5\n",
      "60000/60000 [==============================] - 15s 247us/sample - loss: 0.3866 - acc: 0.8950\n",
      "Epoch 4/5\n",
      "60000/60000 [==============================] - 13s 220us/sample - loss: 0.2552 - acc: 0.9283\n",
      "Epoch 5/5\n",
      "60000/60000 [==============================] - 14s 228us/sample - loss: 0.1890 - acc: 0.9465\n"
     ]
    },
    {
     "data": {
      "text/plain": [
       "<tensorflow.python.keras.callbacks.History at 0x141ef9780>"
      ]
     },
     "execution_count": 37,
     "metadata": {},
     "output_type": "execute_result"
    }
   ],
   "source": [
    "X = train_input / 256.\n",
    "#X = X.reshape(60000, Nh0)\n",
    "\n",
    "model_5layer.fit(X, train_labels, epochs=5)\n"
   ]
  },
  {
   "cell_type": "code",
   "execution_count": 38,
   "metadata": {
    "scrolled": false
   },
   "outputs": [
    {
     "name": "stdout",
     "output_type": "stream",
     "text": [
      "10000/10000 [==============================] - 1s 124us/sample - loss: 0.1660 - acc: 0.9544\n"
     ]
    },
    {
     "data": {
      "text/plain": [
       "[0.16595017320215702, 0.9544]"
      ]
     },
     "execution_count": 38,
     "metadata": {},
     "output_type": "execute_result"
    }
   ],
   "source": [
    "model_5layer.evaluate(test_input/256., test_labels)"
   ]
  },
  {
   "cell_type": "markdown",
   "metadata": {},
   "source": [
    "The 5-layer model got a better accuracy on both the training set and test set, it's not overfitting."
   ]
  },
  {
   "cell_type": "markdown",
   "metadata": {},
   "source": [
    "<span style=\"color:red\">**-2 pts: more layers require more epoachs to converge, 5 is not enough, you should make a epoach vs test accuracy plot to observe a overfitting, in your case, the only conclusion we can make is until 5th epoach, there is no overfitting yet**</span>"
   ]
  },
  {
   "cell_type": "code",
   "execution_count": null,
   "metadata": {},
   "outputs": [],
   "source": []
  }
 ],
 "metadata": {
  "colab": {
   "collapsed_sections": [],
   "name": "lab11_tensorflow",
   "provenance": []
  },
  "kernelspec": {
   "display_name": "Python 3",
   "language": "python",
   "name": "python3"
  },
  "language_info": {
   "codemirror_mode": {
    "name": "ipython",
    "version": 3
   },
   "file_extension": ".py",
   "mimetype": "text/x-python",
   "name": "python",
   "nbconvert_exporter": "python",
   "pygments_lexer": "ipython3",
   "version": "3.6.9"
  }
 },
 "nbformat": 4,
 "nbformat_minor": 1
}
