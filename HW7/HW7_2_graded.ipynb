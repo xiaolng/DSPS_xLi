{
 "cells": [
  {
   "cell_type": "markdown",
   "metadata": {
    "colab_type": "text",
    "id": "view-in-github"
   },
   "source": [
    "<a href=\"https://colab.research.google.com/github/fedhere/DSPS/blob/master/HW%26/LRtestAndMCMC.ipynb\" target=\"_parent\"><img src=\"https://colab.research.google.com/assets/colab-badge.svg\" alt=\"Open In Colab\"/></a>"
   ]
  },
  {
   "cell_type": "markdown",
   "metadata": {
    "colab_type": "text",
    "id": "WAj0ohqHCdHn"
   },
   "source": [
    "# Written by FBB for DSPS 2019\n",
    "# HW 7"
   ]
  },
  {
   "cell_type": "code",
   "execution_count": 1,
   "metadata": {},
   "outputs": [
    {
     "name": "stdout",
     "output_type": "stream",
     "text": [
      "Populating the interactive namespace from numpy and matplotlib\n"
     ]
    }
   ],
   "source": [
    "import numpy as np\n",
    "import pandas as pd\n",
    "import pylab as pl\n",
    "%pylab inline\n",
    "import scipy.stats as stats\n",
    "from scipy.optimize import curve_fit"
   ]
  },
  {
   "cell_type": "markdown",
   "metadata": {
    "colab_type": "text",
    "id": "_uHe9QuoL3-w"
   },
   "source": [
    "# **PART** I Due Tuesday 10/22 at midnight"
   ]
  },
  {
   "cell_type": "markdown",
   "metadata": {
    "colab_type": "text",
    "id": "VuBno3grNpTJ"
   },
   "source": [
    "Read in the abstract, first paragaph of the main text and page three of [Nam et al. 2018](https://arxiv.org/pdf/1811.10212.pdf) which should be sufficient to give you an idea of the problem context., "
   ]
  },
  {
   "cell_type": "markdown",
   "metadata": {
    "colab_type": "text",
    "id": "PQ2mJaQ6PjTK"
   },
   "source": [
    "# 1 Get the data \n",
    "from the Harvard Dataverse open data repository (well curated and organized open data repositories are a blessing in science and data science - they enable reproducibility! - This one is a great one.)\n",
    "\n",
    "Use ```wget``` and the link in the paper (page 17). YOu want the data for Fig 1 insert G.\n"
   ]
  },
  {
   "cell_type": "code",
   "execution_count": 3,
   "metadata": {},
   "outputs": [],
   "source": [
    "# download Fig.+1-G.dat\n",
    "!wget https://dataverse.harvard.edu/api/access/datafile/:persistentId?persistentId=doi:10.7910/DVN/9QKJU2/WOMIZQ\n"
   ]
  },
  {
   "cell_type": "code",
   "execution_count": 2,
   "metadata": {},
   "outputs": [
    {
     "data": {
      "text/html": [
       "<div>\n",
       "<style scoped>\n",
       "    .dataframe tbody tr th:only-of-type {\n",
       "        vertical-align: middle;\n",
       "    }\n",
       "\n",
       "    .dataframe tbody tr th {\n",
       "        vertical-align: top;\n",
       "    }\n",
       "\n",
       "    .dataframe thead th {\n",
       "        text-align: right;\n",
       "    }\n",
       "</style>\n",
       "<table border=\"1\" class=\"dataframe\">\n",
       "  <thead>\n",
       "    <tr style=\"text-align: right;\">\n",
       "      <th></th>\n",
       "      <th>0</th>\n",
       "      <th>1</th>\n",
       "      <th>2</th>\n",
       "      <th>3</th>\n",
       "      <th>4</th>\n",
       "      <th>5</th>\n",
       "      <th>6</th>\n",
       "      <th>7</th>\n",
       "      <th>8</th>\n",
       "      <th>9</th>\n",
       "    </tr>\n",
       "  </thead>\n",
       "  <tbody>\n",
       "    <tr>\n",
       "      <th>0</th>\n",
       "      <td>0.247</td>\n",
       "      <td>0.000000</td>\n",
       "      <td>0.114</td>\n",
       "      <td>NaN</td>\n",
       "      <td>1.998</td>\n",
       "      <td>-0.6682</td>\n",
       "      <td>0.236</td>\n",
       "      <td>NaN</td>\n",
       "      <td>0.0</td>\n",
       "      <td>0.000000</td>\n",
       "    </tr>\n",
       "    <tr>\n",
       "      <th>1</th>\n",
       "      <td>0.270</td>\n",
       "      <td>0.264431</td>\n",
       "      <td>0.291</td>\n",
       "      <td>NaN</td>\n",
       "      <td>3.008</td>\n",
       "      <td>0.0000</td>\n",
       "      <td>1.640</td>\n",
       "      <td>0.000</td>\n",
       "      <td>1.0</td>\n",
       "      <td>0.000163</td>\n",
       "    </tr>\n",
       "    <tr>\n",
       "      <th>2</th>\n",
       "      <td>0.290</td>\n",
       "      <td>0.247896</td>\n",
       "      <td>0.290</td>\n",
       "      <td>NaN</td>\n",
       "      <td>4.013</td>\n",
       "      <td>1.1170</td>\n",
       "      <td>2.500</td>\n",
       "      <td>0.200</td>\n",
       "      <td>1.5</td>\n",
       "      <td>0.007934</td>\n",
       "    </tr>\n",
       "    <tr>\n",
       "      <th>3</th>\n",
       "      <td>0.330</td>\n",
       "      <td>0.232262</td>\n",
       "      <td>0.330</td>\n",
       "      <td>NaN</td>\n",
       "      <td>5.006</td>\n",
       "      <td>2.4760</td>\n",
       "      <td>3.999</td>\n",
       "      <td>1.538</td>\n",
       "      <td>2.0</td>\n",
       "      <td>0.058189</td>\n",
       "    </tr>\n",
       "    <tr>\n",
       "      <th>4</th>\n",
       "      <td>0.379</td>\n",
       "      <td>0.233420</td>\n",
       "      <td>0.380</td>\n",
       "      <td>NaN</td>\n",
       "      <td>6.015</td>\n",
       "      <td>4.4130</td>\n",
       "      <td>5.000</td>\n",
       "      <td>2.866</td>\n",
       "      <td>2.5</td>\n",
       "      <td>0.198115</td>\n",
       "    </tr>\n",
       "  </tbody>\n",
       "</table>\n",
       "</div>"
      ],
      "text/plain": [
       "       0         1      2   3      4       5      6      7    8         9\n",
       "0  0.247  0.000000  0.114 NaN  1.998 -0.6682  0.236    NaN  0.0  0.000000\n",
       "1  0.270  0.264431  0.291 NaN  3.008  0.0000  1.640  0.000  1.0  0.000163\n",
       "2  0.290  0.247896  0.290 NaN  4.013  1.1170  2.500  0.200  1.5  0.007934\n",
       "3  0.330  0.232262  0.330 NaN  5.006  2.4760  3.999  1.538  2.0  0.058189\n",
       "4  0.379  0.233420  0.380 NaN  6.015  4.4130  5.000  2.866  2.5  0.198115"
      ]
     },
     "execution_count": 2,
     "metadata": {},
     "output_type": "execute_result"
    }
   ],
   "source": [
    "nam18 = pd.read_csv('Fig.+1-G.dat', delim_whitespace=True, header=None)\n",
    "nam18 = nam18.apply(pd.to_numeric, errors='coerce')\n",
    "nam18.head()"
   ]
  },
  {
   "cell_type": "markdown",
   "metadata": {
    "colab_type": "text",
    "id": "rzcxyFtgHoGi"
   },
   "source": [
    "# Data Wrangling and visualization\n",
    "\n"
   ]
  },
  {
   "cell_type": "markdown",
   "metadata": {
    "colab_type": "text",
    "id": "FcDCruzW6Aji"
   },
   "source": [
    "Write *a single line of code* that does the following (in whichever order you want):\n",
    "\n",
    "- removes all columns you do not need. \n",
    "- removes Nan values that appear in the relevant columns.\n",
    "- renames the columns according to the notation on in the paper figure (Fig 1 insert G)\n",
    "\n",
    "Writing this in a single line of code is the \"pythonic\" way to do it - meaning its in the conding style of the language. You can do it by concatenating methods that do wach step, like ```df.method1(...).method2(...).method3(...)```\n",
    "and as long as each method returns a dataframe another method can be appended. The code will be run left to right with the next method running on the dataframe returned by the previous one.\n",
    "\n",
    "Note that you can use latex notation for the lables, e.g.:\n",
    "```str=r\"\\Delta^2\"```\n",
    "would look like what you wrote when you look at the column names, but would look like \n",
    "\n",
    "$\\Delta^2$ \n",
    "\n",
    "in the plot label if plotting with df.plot()\n",
    "\n"
   ]
  },
  {
   "cell_type": "code",
   "execution_count": 3,
   "metadata": {},
   "outputs": [
    {
     "data": {
      "text/html": [
       "<div>\n",
       "<style scoped>\n",
       "    .dataframe tbody tr th:only-of-type {\n",
       "        vertical-align: middle;\n",
       "    }\n",
       "\n",
       "    .dataframe tbody tr th {\n",
       "        vertical-align: top;\n",
       "    }\n",
       "\n",
       "    .dataframe thead th {\n",
       "        text-align: right;\n",
       "    }\n",
       "</style>\n",
       "<table border=\"1\" class=\"dataframe\">\n",
       "  <thead>\n",
       "    <tr style=\"text-align: right;\">\n",
       "      <th></th>\n",
       "      <th>temp</th>\n",
       "      <th>nstar</th>\n",
       "    </tr>\n",
       "  </thead>\n",
       "  <tbody>\n",
       "    <tr>\n",
       "      <th>0</th>\n",
       "      <td>0.114</td>\n",
       "      <td>0.000000</td>\n",
       "    </tr>\n",
       "    <tr>\n",
       "      <th>1</th>\n",
       "      <td>0.291</td>\n",
       "      <td>0.264431</td>\n",
       "    </tr>\n",
       "    <tr>\n",
       "      <th>2</th>\n",
       "      <td>0.290</td>\n",
       "      <td>0.247896</td>\n",
       "    </tr>\n",
       "    <tr>\n",
       "      <th>3</th>\n",
       "      <td>0.330</td>\n",
       "      <td>0.232262</td>\n",
       "    </tr>\n",
       "    <tr>\n",
       "      <th>4</th>\n",
       "      <td>0.380</td>\n",
       "      <td>0.233420</td>\n",
       "    </tr>\n",
       "  </tbody>\n",
       "</table>\n",
       "</div>"
      ],
      "text/plain": [
       "    temp     nstar\n",
       "0  0.114  0.000000\n",
       "1  0.291  0.264431\n",
       "2  0.290  0.247896\n",
       "3  0.330  0.232262\n",
       "4  0.380  0.233420"
      ]
     },
     "execution_count": 3,
     "metadata": {},
     "output_type": "execute_result"
    }
   ],
   "source": [
    "nam18_reducted = nam18[[2,1]].dropna().rename(columns={2: \"temp\", 1: \"nstar\"})\n",
    "nam18_reducted.head()"
   ]
  },
  {
   "cell_type": "code",
   "execution_count": 4,
   "metadata": {},
   "outputs": [
    {
     "data": {
      "text/plain": [
       "Text(0, 0.5, '$n^*$ ($10^9$ cm $^{-2}$)')"
      ]
     },
     "execution_count": 4,
     "metadata": {},
     "output_type": "execute_result"
    },
    {
     "data": {
      "image/png": "[encoded data removed]",
      "text/plain": [
       "<Figure size 576x432 with 1 Axes>"
      ]
     },
     "metadata": {
      "needs_background": "light"
     },
     "output_type": "display_data"
    }
   ],
   "source": [
    "pl.figure(figsize=(8, 6))\n",
    "pl.scatter(nam18_reducted.temp, nam18_reducted.nstar)\n",
    "pl.xlabel('T(K)')\n",
    "pl.ylabel('$n^*$ ($10^9$ cm $^{-2}$)')"
   ]
  },
  {
   "cell_type": "markdown",
   "metadata": {},
   "source": [
    "Figure 1. The temperature dependence of $n^*(T)$ from measurements. $n^*(T)$ increases at higher T. "
   ]
  },
  {
   "cell_type": "markdown",
   "metadata": {
    "colab_type": "text",
    "id": "dVrx4G3J9m4j"
   },
   "source": [
    "# 677 and Extra Credit"
   ]
  },
  {
   "cell_type": "markdown",
   "metadata": {
    "colab_type": "text",
    "id": "xL9pNhLA7a4j"
   },
   "source": [
    "Create a function that generates a polynomial of any degree.\n",
    "\n",
    "Functions can take variable number of arguments if passed as a tuple with a * (this is a pointer. If you coded in C you know this syntax.)\n",
    "\n",
    "What I mean by that is that I can create a function as:\n"
   ]
  },
  {
   "cell_type": "code",
   "execution_count": 5,
   "metadata": {
    "colab": {
     "base_uri": "https://localhost:8080/",
     "height": 85
    },
    "colab_type": "code",
    "id": "hyOj1GBE75Sp",
    "outputId": "58bbf117-cc8e-4960-972a-6828a3e008ba"
   },
   "outputs": [
    {
     "name": "stdout",
     "output_type": "stream",
     "text": [
      "the number of elements passed in argument 'a' is:  3\n",
      "Argument 0 is 0\n",
      "Argument 1 is 1\n",
      "Argument 2 is 2\n"
     ]
    }
   ],
   "source": [
    "def unspecifiedArgumentFunction(*a):\n",
    "    print (\"the number of elements passed in argument 'a' is: \", len(a))\n",
    "    for i in range(len(a)):\n",
    "        print (\"Argument {} is {}\".format(i, a[i]))\n",
    "        \n",
    "unspecifiedArgumentFunction(*[0,1,2])          "
   ]
  },
  {
   "cell_type": "code",
   "execution_count": 6,
   "metadata": {
    "colab": {
     "base_uri": "https://localhost:8080/",
     "height": 68
    },
    "colab_type": "code",
    "id": "iaVEG7eM8Oyq",
    "outputId": "ab0f0028-485f-48db-a9c5-04ecd5f8e22f",
    "scrolled": false
   },
   "outputs": [
    {
     "name": "stdout",
     "output_type": "stream",
     "text": [
      "the number of elements passed in argument 'a' is:  2\n",
      "Argument 0 is hello\n",
      "Argument 1 is [0, 1, 2]\n"
     ]
    }
   ],
   "source": [
    "unspecifiedArgumentFunction(*[\"hello\", [0,1,2]])          "
   ]
  },
  {
   "cell_type": "markdown",
   "metadata": {
    "colab_type": "text",
    "id": "WiupDvwP8uXj"
   },
   "source": [
    "So based on this create a function that takes the _x_ vector (exogenous variable) and a pointer to n coefficients. Those will be the parameters of the polynomial and it will be a list of 2 elements for a line (slope and intercept), of 3 elements for a second degree polynomial, 4 for a third etc etc. Fit this with scipy.optimize.curve_fit fitting a polynomial of 1st (line), 2nd (parabola), and 3rd degree."
   ]
  },
  {
   "cell_type": "code",
   "execution_count": 7,
   "metadata": {},
   "outputs": [],
   "source": [
    "def polynomial(x, *a):\n",
    "    '''generate a polynomial of any degree'''\n",
    "    result = 0\n",
    "    for i, ai in enumerate(a):\n",
    "        result += x**i * ai\n",
    "    return result\n"
   ]
  },
  {
   "cell_type": "code",
   "execution_count": 52,
   "metadata": {
    "scrolled": false
   },
   "outputs": [
    {
     "data": {
      "text/plain": [
       "Text(0, 0.5, '$n^*$')"
      ]
     },
     "execution_count": 52,
     "metadata": {},
     "output_type": "execute_result"
    },
    {
     "data": {
      "image/png": "[encoded data removed]",
      "text/plain": [
       "<Figure size 576x432 with 1 Axes>"
      ]
     },
     "metadata": {
      "needs_background": "light"
     },
     "output_type": "display_data"
    }
   ],
   "source": [
    "x = nam18_reducted.temp.values\n",
    "y = nam18_reducted.nstar.values\n",
    "# fit line\n",
    "popt_1, pcov_1 = curve_fit(polynomial, xdata=x, ydata=y, p0=[1, 0])\n",
    "\n",
    "# fit parabola\n",
    "popt_2, pcov_2 = curve_fit(polynomial, xdata=x, ydata=y, p0=[1, 0, 0])\n",
    "\n",
    "# fit 3rd degree \n",
    "popt_3, pcov_3 = curve_fit(polynomial, xdata=x, ydata=y, p0=[1, 0, 0, 0])\n",
    "\n",
    "x_fit = np.linspace(0, nam18_reducted.temp.max(), 50)\n",
    "yfit_1 = polynomial(x_fit, *popt_1)\n",
    "yfit_2 = polynomial(x_fit, *popt_2)\n",
    "yfit_3 = polynomial(x_fit, *popt_3)\n",
    "\n",
    "# plot \n",
    "pl.figure(figsize=(8, 6))\n",
    "\n",
    "pl.scatter(x, y, label='data')\n",
    "pl.plot(x_fit, yfit_1, label='line')\n",
    "pl.plot(x_fit, yfit_2, label='parabola')\n",
    "pl.plot(x_fit, yfit_3, label='3rd polynomial')\n",
    "pl.legend()\n",
    "pl.xlabel('T(K)')\n",
    "pl.ylabel('$n^*$')"
   ]
  },
  {
   "cell_type": "markdown",
   "metadata": {},
   "source": [
    "Figure 2. Fit a polynomial of 1st (line), 2nd (parabola), and 3rd degree to the temperature dependence of $n^*$ from measurements."
   ]
  },
  {
   "cell_type": "markdown",
   "metadata": {
    "colab_type": "text",
    "id": "gTWLH0t7H5Mr"
   },
   "source": [
    "# 3 Model"
   ]
  },
  {
   "cell_type": "markdown",
   "metadata": {
    "colab_type": "text",
    "id": "U5xlNzzI_P7S"
   },
   "source": [
    "Use the statsmodels.formula.api package to run Ordinary Linear Fits (ols) and fit a line, a second degree polynomial and a third degree polynomial to the data. For each model extract the log-likelihood and print it out explicitally for each mode. How do the lof-likelihoods compare for the three models? does it make sense? explain. Just by reading the log-likelihood value can you say which model is better? Discuss\n",
    "\n",
    "Note: if you followed the instructions and renamed variables as I asked you to above, you will encounter an issue here, Although pandas know how to render the string in the plot, statsmodels has issues with parsing a complex string with characters such as \"(\" or latex inputs."
   ]
  },
  {
   "cell_type": "markdown",
   "metadata": {},
   "source": [
    "> The line and parabola model have the same log likelihood. The order 3 polynomial model has the highest log likelihood. That makes sense because the 3 order polynomial has the least square root loss. Based on the value of log likelihood, the order 3 polynomial model is better. "
   ]
  },
  {
   "cell_type": "code",
   "execution_count": 172,
   "metadata": {
    "collapsed": true
   },
   "outputs": [
    {
     "name": "stdout",
     "output_type": "stream",
     "text": [
      "Collecting statsmodels\n",
      "\u001b[?25l  Downloading https://files.pythonhosted.org/packages/a1/94/dd7fce3210ca415aeb6d11d16cae30bfce849cf6b232cffeaee83259276f/statsmodels-0.10.1-cp36-cp36m-macosx_10_6_intel.macosx_10_9_intel.macosx_10_9_x86_64.macosx_10_10_intel.macosx_10_10_x86_64.whl (10.5MB)\n",
      "\u001b[K    100% |████████████████████████████████| 10.5MB 648kB/s ta 0:00:01\n",
      "\u001b[?25hRequirement already satisfied: pandas>=0.19 in /Users/home/miniconda3/lib/python3.6/site-packages (from statsmodels) (0.23.4)\n",
      "Requirement already satisfied: numpy>=1.11 in /Users/home/miniconda3/lib/python3.6/site-packages (from statsmodels) (1.15.2)\n",
      "Collecting patsy>=0.4.0 (from statsmodels)\n",
      "\u001b[?25l  Downloading https://files.pythonhosted.org/packages/ea/0c/5f61f1a3d4385d6bf83b83ea495068857ff8dfb89e74824c6e9eb63286d8/patsy-0.5.1-py2.py3-none-any.whl (231kB)\n",
      "\u001b[K    100% |████████████████████████████████| 235kB 1.2MB/s ta 0:00:01\n",
      "\u001b[?25hRequirement already satisfied: scipy>=0.18 in /Users/home/miniconda3/lib/python3.6/site-packages (from statsmodels) (1.1.0)\n",
      "Requirement already satisfied: pytz>=2011k in /Users/home/miniconda3/lib/python3.6/site-packages (from pandas>=0.19->statsmodels) (2018.9)\n",
      "Requirement already satisfied: python-dateutil>=2.5.0 in /Users/home/miniconda3/lib/python3.6/site-packages (from pandas>=0.19->statsmodels) (2.7.5)\n",
      "Requirement already satisfied: six in /Users/home/miniconda3/lib/python3.6/site-packages (from patsy>=0.4.0->statsmodels) (1.11.0)\n",
      "Installing collected packages: patsy, statsmodels\n",
      "Successfully installed patsy-0.5.1 statsmodels-0.10.1\n"
     ]
    }
   ],
   "source": [
    "!pip install statsmodels"
   ]
  },
  {
   "cell_type": "code",
   "execution_count": 12,
   "metadata": {},
   "outputs": [],
   "source": [
    "import statsmodels.formula.api as smf\n"
   ]
  },
  {
   "cell_type": "code",
   "execution_count": 13,
   "metadata": {},
   "outputs": [
    {
     "data": {
      "text/plain": [
       "Index(['temp', 'nstar'], dtype='object')"
      ]
     },
     "execution_count": 13,
     "metadata": {},
     "output_type": "execute_result"
    }
   ],
   "source": [
    "df = nam18_reducted\n",
    "df.columns"
   ]
  },
  {
   "cell_type": "code",
   "execution_count": 14,
   "metadata": {},
   "outputs": [
    {
     "data": {
      "text/html": [
       "<table class=\"simpletable\">\n",
       "<caption>OLS Regression Results</caption>\n",
       "<tr>\n",
       "  <th>Dep. Variable:</th>          <td>nstar</td>      <th>  R-squared:         </th> <td>   0.982</td>\n",
       "</tr>\n",
       "<tr>\n",
       "  <th>Model:</th>                   <td>OLS</td>       <th>  Adj. R-squared:    </th> <td>   0.982</td>\n",
       "</tr>\n",
       "<tr>\n",
       "  <th>Method:</th>             <td>Least Squares</td>  <th>  F-statistic:       </th> <td>   1816.</td>\n",
       "</tr>\n",
       "<tr>\n",
       "  <th>Date:</th>             <td>Tue, 22 Oct 2019</td> <th>  Prob (F-statistic):</th> <td>1.97e-30</td>\n",
       "</tr>\n",
       "<tr>\n",
       "  <th>Time:</th>                 <td>15:54:01</td>     <th>  Log-Likelihood:    </th> <td> -78.850</td>\n",
       "</tr>\n",
       "<tr>\n",
       "  <th>No. Observations:</th>      <td>    35</td>      <th>  AIC:               </th> <td>   161.7</td>\n",
       "</tr>\n",
       "<tr>\n",
       "  <th>Df Residuals:</th>          <td>    33</td>      <th>  BIC:               </th> <td>   164.8</td>\n",
       "</tr>\n",
       "<tr>\n",
       "  <th>Df Model:</th>              <td>     1</td>      <th>                     </th>     <td> </td>   \n",
       "</tr>\n",
       "<tr>\n",
       "  <th>Covariance Type:</th>      <td>nonrobust</td>    <th>                     </th>     <td> </td>   \n",
       "</tr>\n",
       "</table>\n",
       "<table class=\"simpletable\">\n",
       "<tr>\n",
       "      <td></td>         <th>coef</th>     <th>std err</th>      <th>t</th>      <th>P>|t|</th>  <th>[0.025</th>    <th>0.975]</th>  \n",
       "</tr>\n",
       "<tr>\n",
       "  <th>Intercept</th> <td>   -1.9431</td> <td>    0.492</td> <td>   -3.950</td> <td> 0.000</td> <td>   -2.944</td> <td>   -0.942</td>\n",
       "</tr>\n",
       "<tr>\n",
       "  <th>temp</th>      <td>    1.6405</td> <td>    0.038</td> <td>   42.611</td> <td> 0.000</td> <td>    1.562</td> <td>    1.719</td>\n",
       "</tr>\n",
       "</table>\n",
       "<table class=\"simpletable\">\n",
       "<tr>\n",
       "  <th>Omnibus:</th>       <td> 1.162</td> <th>  Durbin-Watson:     </th> <td>   0.838</td>\n",
       "</tr>\n",
       "<tr>\n",
       "  <th>Prob(Omnibus):</th> <td> 0.559</td> <th>  Jarque-Bera (JB):  </th> <td>   0.973</td>\n",
       "</tr>\n",
       "<tr>\n",
       "  <th>Skew:</th>          <td>-0.393</td> <th>  Prob(JB):          </th> <td>   0.615</td>\n",
       "</tr>\n",
       "<tr>\n",
       "  <th>Kurtosis:</th>      <td> 2.775</td> <th>  Cond. No.          </th> <td>    15.7</td>\n",
       "</tr>\n",
       "</table><br/><br/>Warnings:<br/>[1] Standard Errors assume that the covariance matrix of the errors is correctly specified."
      ],
      "text/plain": [
       "<class 'statsmodels.iolib.summary.Summary'>\n",
       "\"\"\"\n",
       "                            OLS Regression Results                            \n",
       "==============================================================================\n",
       "Dep. Variable:                  nstar   R-squared:                       0.982\n",
       "Model:                            OLS   Adj. R-squared:                  0.982\n",
       "Method:                 Least Squares   F-statistic:                     1816.\n",
       "Date:                Tue, 22 Oct 2019   Prob (F-statistic):           1.97e-30\n",
       "Time:                        15:54:01   Log-Likelihood:                -78.850\n",
       "No. Observations:                  35   AIC:                             161.7\n",
       "Df Residuals:                      33   BIC:                             164.8\n",
       "Df Model:                           1                                         \n",
       "Covariance Type:            nonrobust                                         \n",
       "==============================================================================\n",
       "                 coef    std err          t      P>|t|      [0.025      0.975]\n",
       "------------------------------------------------------------------------------\n",
       "Intercept     -1.9431      0.492     -3.950      0.000      -2.944      -0.942\n",
       "temp           1.6405      0.038     42.611      0.000       1.562       1.719\n",
       "==============================================================================\n",
       "Omnibus:                        1.162   Durbin-Watson:                   0.838\n",
       "Prob(Omnibus):                  0.559   Jarque-Bera (JB):                0.973\n",
       "Skew:                          -0.393   Prob(JB):                        0.615\n",
       "Kurtosis:                       2.775   Cond. No.                         15.7\n",
       "==============================================================================\n",
       "\n",
       "Warnings:\n",
       "[1] Standard Errors assume that the covariance matrix of the errors is correctly specified.\n",
       "\"\"\""
      ]
     },
     "execution_count": 14,
     "metadata": {},
     "output_type": "execute_result"
    }
   ],
   "source": [
    "# fit line\n",
    "\n",
    "model1 = smf.ols(formula='nstar ~ temp', data=df).fit()\n",
    "\n",
    "model1.summary()"
   ]
  },
  {
   "cell_type": "code",
   "execution_count": 15,
   "metadata": {},
   "outputs": [
    {
     "data": {
      "text/html": [
       "<table class=\"simpletable\">\n",
       "<caption>OLS Regression Results</caption>\n",
       "<tr>\n",
       "  <th>Dep. Variable:</th>          <td>nstar</td>      <th>  R-squared:         </th> <td>   0.982</td>\n",
       "</tr>\n",
       "<tr>\n",
       "  <th>Model:</th>                   <td>OLS</td>       <th>  Adj. R-squared:    </th> <td>   0.981</td>\n",
       "</tr>\n",
       "<tr>\n",
       "  <th>Method:</th>             <td>Least Squares</td>  <th>  F-statistic:       </th> <td>   881.1</td>\n",
       "</tr>\n",
       "<tr>\n",
       "  <th>Date:</th>             <td>Tue, 22 Oct 2019</td> <th>  Prob (F-statistic):</th> <td>1.05e-28</td>\n",
       "</tr>\n",
       "<tr>\n",
       "  <th>Time:</th>                 <td>15:54:11</td>     <th>  Log-Likelihood:    </th> <td> -78.835</td>\n",
       "</tr>\n",
       "<tr>\n",
       "  <th>No. Observations:</th>      <td>    35</td>      <th>  AIC:               </th> <td>   163.7</td>\n",
       "</tr>\n",
       "<tr>\n",
       "  <th>Df Residuals:</th>          <td>    32</td>      <th>  BIC:               </th> <td>   168.3</td>\n",
       "</tr>\n",
       "<tr>\n",
       "  <th>Df Model:</th>              <td>     2</td>      <th>                     </th>     <td> </td>   \n",
       "</tr>\n",
       "<tr>\n",
       "  <th>Covariance Type:</th>      <td>nonrobust</td>    <th>                     </th>     <td> </td>   \n",
       "</tr>\n",
       "</table>\n",
       "<table class=\"simpletable\">\n",
       "<tr>\n",
       "        <td></td>          <th>coef</th>     <th>std err</th>      <th>t</th>      <th>P>|t|</th>  <th>[0.025</th>    <th>0.975]</th>  \n",
       "</tr>\n",
       "<tr>\n",
       "  <th>Intercept</th>    <td>   -1.8899</td> <td>    0.592</td> <td>   -3.191</td> <td> 0.003</td> <td>   -3.096</td> <td>   -0.683</td>\n",
       "</tr>\n",
       "<tr>\n",
       "  <th>temp</th>         <td>    1.6196</td> <td>    0.131</td> <td>   12.365</td> <td> 0.000</td> <td>    1.353</td> <td>    1.886</td>\n",
       "</tr>\n",
       "<tr>\n",
       "  <th>I(temp ** 2)</th> <td>    0.0006</td> <td>    0.004</td> <td>    0.167</td> <td> 0.869</td> <td>   -0.007</td> <td>    0.008</td>\n",
       "</tr>\n",
       "</table>\n",
       "<table class=\"simpletable\">\n",
       "<tr>\n",
       "  <th>Omnibus:</th>       <td> 1.380</td> <th>  Durbin-Watson:     </th> <td>   0.851</td>\n",
       "</tr>\n",
       "<tr>\n",
       "  <th>Prob(Omnibus):</th> <td> 0.502</td> <th>  Jarque-Bera (JB):  </th> <td>   1.042</td>\n",
       "</tr>\n",
       "<tr>\n",
       "  <th>Skew:</th>          <td>-0.418</td> <th>  Prob(JB):          </th> <td>   0.594</td>\n",
       "</tr>\n",
       "<tr>\n",
       "  <th>Kurtosis:</th>      <td> 2.877</td> <th>  Cond. No.          </th> <td>    591.</td>\n",
       "</tr>\n",
       "</table><br/><br/>Warnings:<br/>[1] Standard Errors assume that the covariance matrix of the errors is correctly specified."
      ],
      "text/plain": [
       "<class 'statsmodels.iolib.summary.Summary'>\n",
       "\"\"\"\n",
       "                            OLS Regression Results                            \n",
       "==============================================================================\n",
       "Dep. Variable:                  nstar   R-squared:                       0.982\n",
       "Model:                            OLS   Adj. R-squared:                  0.981\n",
       "Method:                 Least Squares   F-statistic:                     881.1\n",
       "Date:                Tue, 22 Oct 2019   Prob (F-statistic):           1.05e-28\n",
       "Time:                        15:54:11   Log-Likelihood:                -78.835\n",
       "No. Observations:                  35   AIC:                             163.7\n",
       "Df Residuals:                      32   BIC:                             168.3\n",
       "Df Model:                           2                                         \n",
       "Covariance Type:            nonrobust                                         \n",
       "================================================================================\n",
       "                   coef    std err          t      P>|t|      [0.025      0.975]\n",
       "--------------------------------------------------------------------------------\n",
       "Intercept       -1.8899      0.592     -3.191      0.003      -3.096      -0.683\n",
       "temp             1.6196      0.131     12.365      0.000       1.353       1.886\n",
       "I(temp ** 2)     0.0006      0.004      0.167      0.869      -0.007       0.008\n",
       "==============================================================================\n",
       "Omnibus:                        1.380   Durbin-Watson:                   0.851\n",
       "Prob(Omnibus):                  0.502   Jarque-Bera (JB):                1.042\n",
       "Skew:                          -0.418   Prob(JB):                        0.594\n",
       "Kurtosis:                       2.877   Cond. No.                         591.\n",
       "==============================================================================\n",
       "\n",
       "Warnings:\n",
       "[1] Standard Errors assume that the covariance matrix of the errors is correctly specified.\n",
       "\"\"\""
      ]
     },
     "execution_count": 15,
     "metadata": {},
     "output_type": "execute_result"
    }
   ],
   "source": [
    "# fit parabola\n",
    "\n",
    "model2 = smf.ols(formula='nstar ~ temp + I(temp**2)', data=df).fit()\n",
    "\n",
    "model2.summary()"
   ]
  },
  {
   "cell_type": "code",
   "execution_count": 16,
   "metadata": {},
   "outputs": [
    {
     "data": {
      "text/html": [
       "<table class=\"simpletable\">\n",
       "<caption>OLS Regression Results</caption>\n",
       "<tr>\n",
       "  <th>Dep. Variable:</th>          <td>nstar</td>      <th>  R-squared:         </th> <td>   0.993</td>\n",
       "</tr>\n",
       "<tr>\n",
       "  <th>Model:</th>                   <td>OLS</td>       <th>  Adj. R-squared:    </th> <td>   0.992</td>\n",
       "</tr>\n",
       "<tr>\n",
       "  <th>Method:</th>             <td>Least Squares</td>  <th>  F-statistic:       </th> <td>   1486.</td>\n",
       "</tr>\n",
       "<tr>\n",
       "  <th>Date:</th>             <td>Tue, 22 Oct 2019</td> <th>  Prob (F-statistic):</th> <td>1.46e-33</td>\n",
       "</tr>\n",
       "<tr>\n",
       "  <th>Time:</th>                 <td>15:54:15</td>     <th>  Log-Likelihood:    </th> <td> -62.232</td>\n",
       "</tr>\n",
       "<tr>\n",
       "  <th>No. Observations:</th>      <td>    35</td>      <th>  AIC:               </th> <td>   132.5</td>\n",
       "</tr>\n",
       "<tr>\n",
       "  <th>Df Residuals:</th>          <td>    31</td>      <th>  BIC:               </th> <td>   138.7</td>\n",
       "</tr>\n",
       "<tr>\n",
       "  <th>Df Model:</th>              <td>     3</td>      <th>                     </th>     <td> </td>   \n",
       "</tr>\n",
       "<tr>\n",
       "  <th>Covariance Type:</th>      <td>nonrobust</td>    <th>                     </th>     <td> </td>   \n",
       "</tr>\n",
       "</table>\n",
       "<table class=\"simpletable\">\n",
       "<tr>\n",
       "        <td></td>          <th>coef</th>     <th>std err</th>      <th>t</th>      <th>P>|t|</th>  <th>[0.025</th>    <th>0.975]</th>  \n",
       "</tr>\n",
       "<tr>\n",
       "  <th>Intercept</th>    <td>   -0.3607</td> <td>    0.433</td> <td>   -0.832</td> <td> 0.412</td> <td>   -1.245</td> <td>    0.523</td>\n",
       "</tr>\n",
       "<tr>\n",
       "  <th>temp</th>         <td>    0.5471</td> <td>    0.174</td> <td>    3.142</td> <td> 0.004</td> <td>    0.192</td> <td>    0.902</td>\n",
       "</tr>\n",
       "<tr>\n",
       "  <th>I(temp ** 2)</th> <td>    0.0874</td> <td>    0.013</td> <td>    6.930</td> <td> 0.000</td> <td>    0.062</td> <td>    0.113</td>\n",
       "</tr>\n",
       "<tr>\n",
       "  <th>I(temp ** 3)</th> <td>   -0.0016</td> <td>    0.000</td> <td>   -7.004</td> <td> 0.000</td> <td>   -0.002</td> <td>   -0.001</td>\n",
       "</tr>\n",
       "</table>\n",
       "<table class=\"simpletable\">\n",
       "<tr>\n",
       "  <th>Omnibus:</th>       <td> 3.851</td> <th>  Durbin-Watson:     </th> <td>   1.367</td>\n",
       "</tr>\n",
       "<tr>\n",
       "  <th>Prob(Omnibus):</th> <td> 0.146</td> <th>  Jarque-Bera (JB):  </th> <td>   2.558</td>\n",
       "</tr>\n",
       "<tr>\n",
       "  <th>Skew:</th>          <td>-0.424</td> <th>  Prob(JB):          </th> <td>   0.278</td>\n",
       "</tr>\n",
       "<tr>\n",
       "  <th>Kurtosis:</th>      <td> 4.018</td> <th>  Cond. No.          </th> <td>2.51e+04</td>\n",
       "</tr>\n",
       "</table><br/><br/>Warnings:<br/>[1] Standard Errors assume that the covariance matrix of the errors is correctly specified.<br/>[2] The condition number is large, 2.51e+04. This might indicate that there are<br/>strong multicollinearity or other numerical problems."
      ],
      "text/plain": [
       "<class 'statsmodels.iolib.summary.Summary'>\n",
       "\"\"\"\n",
       "                            OLS Regression Results                            \n",
       "==============================================================================\n",
       "Dep. Variable:                  nstar   R-squared:                       0.993\n",
       "Model:                            OLS   Adj. R-squared:                  0.992\n",
       "Method:                 Least Squares   F-statistic:                     1486.\n",
       "Date:                Tue, 22 Oct 2019   Prob (F-statistic):           1.46e-33\n",
       "Time:                        15:54:15   Log-Likelihood:                -62.232\n",
       "No. Observations:                  35   AIC:                             132.5\n",
       "Df Residuals:                      31   BIC:                             138.7\n",
       "Df Model:                           3                                         \n",
       "Covariance Type:            nonrobust                                         \n",
       "================================================================================\n",
       "                   coef    std err          t      P>|t|      [0.025      0.975]\n",
       "--------------------------------------------------------------------------------\n",
       "Intercept       -0.3607      0.433     -0.832      0.412      -1.245       0.523\n",
       "temp             0.5471      0.174      3.142      0.004       0.192       0.902\n",
       "I(temp ** 2)     0.0874      0.013      6.930      0.000       0.062       0.113\n",
       "I(temp ** 3)    -0.0016      0.000     -7.004      0.000      -0.002      -0.001\n",
       "==============================================================================\n",
       "Omnibus:                        3.851   Durbin-Watson:                   1.367\n",
       "Prob(Omnibus):                  0.146   Jarque-Bera (JB):                2.558\n",
       "Skew:                          -0.424   Prob(JB):                        0.278\n",
       "Kurtosis:                       4.018   Cond. No.                     2.51e+04\n",
       "==============================================================================\n",
       "\n",
       "Warnings:\n",
       "[1] Standard Errors assume that the covariance matrix of the errors is correctly specified.\n",
       "[2] The condition number is large, 2.51e+04. This might indicate that there are\n",
       "strong multicollinearity or other numerical problems.\n",
       "\"\"\""
      ]
     },
     "execution_count": 16,
     "metadata": {},
     "output_type": "execute_result"
    }
   ],
   "source": [
    "model3 = smf.ols(formula='nstar ~ temp + I(temp**2) + I(temp**3)', data=df).fit()\n",
    "\n",
    "model3.summary()\n"
   ]
  },
  {
   "cell_type": "code",
   "execution_count": 18,
   "metadata": {
    "colab": {},
    "colab_type": "code",
    "id": "loo5Gxi8NSgn"
   },
   "outputs": [
    {
     "name": "stdout",
     "output_type": "stream",
     "text": [
      "line model log-likelihood: -78.835\n",
      "parabola model log-likelihood: -78.835 \n",
      "order 3 polynomial model log-likelihood: -62.232\n"
     ]
    }
   ],
   "source": [
    "\n",
    "print(\"line model log-likelihood: {}\".format(-78.835))\n",
    "print(\"parabola model log-likelihood: {} \".format(-78.835))\n",
    "print(\"order 3 polynomial model log-likelihood: {}\".format(-62.232))\n"
   ]
  },
  {
   "cell_type": "markdown",
   "metadata": {
    "colab_type": "text",
    "id": "qEbpUunfCUX8"
   },
   "source": [
    "# 4 plot the three models over the data. Use the polynomial function you created in the 667/EC if you did. \n",
    "Make sure you create a new x vector that samples densely the range spanned by the temperature variabla in your data, or your models, which should be plotted with lines, will look broken-up"
   ]
  },
  {
   "cell_type": "code",
   "execution_count": 20,
   "metadata": {
    "colab": {
     "base_uri": "https://localhost:8080/",
     "height": 283
    },
    "colab_type": "code",
    "id": "Tyhc5aF5sTx_",
    "outputId": "e4aa1e2f-0bfc-4531-9e46-8dc12f265879",
    "scrolled": false
   },
   "outputs": [
    {
     "data": {
      "text/plain": [
       "Text(0, 0.5, '$n^*$ ($10^9$ cm $^{-2}$)')"
      ]
     },
     "execution_count": 20,
     "metadata": {},
     "output_type": "execute_result"
    },
    {
     "data": {
      "image/png": "[encoded data removed]",
      "text/plain": [
       "<Figure size 576x432 with 1 Axes>"
      ]
     },
     "metadata": {
      "needs_background": "light"
     },
     "output_type": "display_data"
    }
   ],
   "source": [
    "x = pd.DataFrame(np.linspace(0, df.temp.max(), 50), columns=['temp'])\n",
    "y_pred1 = model1.predict(x)\n",
    "y_pred2 = model2.predict(x)\n",
    "y_pred3 = model3.predict(x)\n",
    "\n",
    "# plot \n",
    "pl.figure(figsize=(8, 6))\n",
    "\n",
    "pl.scatter(df.temp, df.nstar, label='data')\n",
    "pl.plot(x, y_pred1, label='line')\n",
    "pl.plot(x, y_pred2, label='parabola')\n",
    "pl.plot(x, y_pred3, label='3rd polynomial')\n",
    "pl.legend()\n",
    "pl.xlabel('T(K)')\n",
    "pl.ylabel('$n^*$ ($10^9$ cm $^{-2}$)')"
   ]
  },
  {
   "cell_type": "markdown",
   "metadata": {},
   "source": [
    "Figure 3. Fit a polynomial of 1st (line), 2nd (parabola), and 3rd degree to the temperature dependence of $n^*$ from measurements using ```statsmodel```."
   ]
  },
  {
   "cell_type": "markdown",
   "metadata": {
    "colab_type": "text",
    "id": "DGFhdzgDyhIR"
   },
   "source": [
    "# 5 *formally* compare the models with a test that returns a p-value assessment (NHRT) to determine which model is best. Sort the models from the best one to the worse one."
   ]
  },
  {
   "cell_type": "code",
   "execution_count": 35,
   "metadata": {},
   "outputs": [],
   "source": [
    "# set a threshold, if p<alpha, reject the null hypothesis\n",
    "alpha = 0.05"
   ]
  },
  {
   "cell_type": "code",
   "execution_count": 46,
   "metadata": {
    "scrolled": false
   },
   "outputs": [
    {
     "name": "stdout",
     "output_type": "stream",
     "text": [
      "Is model 1 better than model 2?  True\n"
     ]
    }
   ],
   "source": [
    "# likelihood ratio test\n",
    "\n",
    "# compare model 2 and 1\n",
    "lr, p, diff = model2.compare_lr_test(model1)\n",
    "print('Is model 1 better than model 2? ', p>alpha)"
   ]
  },
  {
   "cell_type": "code",
   "execution_count": 47,
   "metadata": {
    "scrolled": false
   },
   "outputs": [
    {
     "name": "stdout",
     "output_type": "stream",
     "text": [
      "Is model 1 better than model 3?  False\n"
     ]
    }
   ],
   "source": [
    "# compare model 3 and 1\n",
    "lr, p, diff = model3.compare_lr_test(model1)\n",
    "print('Is model 1 better than model 3? ', p>alpha)"
   ]
  },
  {
   "cell_type": "code",
   "execution_count": 48,
   "metadata": {
    "scrolled": true
   },
   "outputs": [
    {
     "name": "stdout",
     "output_type": "stream",
     "text": [
      "Is model 2 better than model 3?  False\n"
     ]
    }
   ],
   "source": [
    "# compare model 3 and 2\n",
    "lr, p, diff = model3.compare_lr_test(model2)\n",
    "print('Is model 2 better than model 3? ', p>alpha)\n"
   ]
  },
  {
   "cell_type": "code",
   "execution_count": 50,
   "metadata": {
    "colab": {
     "base_uri": "https://localhost:8080/",
     "height": 34
    },
    "colab_type": "code",
    "id": "tWDQXf53IwnE",
    "outputId": "d4921c23-871d-4b1c-c23e-f1c5e15a6a51",
    "scrolled": false
   },
   "outputs": [
    {
     "name": "stdout",
     "output_type": "stream",
     "text": [
      "The models from best to worst: model 3 > model 1 > model 2 \n"
     ]
    }
   ],
   "source": [
    "print(\"The models from best to worst: model 3 > model 1 > model 2 \")"
   ]
  },
  {
   "cell_type": "markdown",
   "metadata": {
    "colab_type": "text",
    "id": "6wLSOjS2Ddpf"
   },
   "source": [
    "### Install emcee"
   ]
  },
  {
   "cell_type": "code",
   "execution_count": 2,
   "metadata": {
    "colab": {
     "base_uri": "https://localhost:8080/",
     "height": 51
    },
    "colab_type": "code",
    "id": "9-CdeZvv1A_3",
    "outputId": "66b2ce0e-6312-42ff-8d5e-e3fdcad1041e",
    "scrolled": false
   },
   "outputs": [
    {
     "name": "stdout",
     "output_type": "stream",
     "text": [
      "Collecting emcee\n",
      "\u001b[?25l  Downloading https://files.pythonhosted.org/packages/00/08/0d86d0af356d50ff00d741c34a90a971e7ae0a0aeb2bd050bcacfdc34229/emcee-3.0.0-py2.py3-none-any.whl (51kB)\n",
      "\u001b[K    100% |████████████████████████████████| 61kB 196kB/s ta 0:00:01\n",
      "\u001b[?25hRequirement already satisfied: numpy in /Users/home/miniconda3/lib/python3.6/site-packages (from emcee) (1.15.2)\n",
      "Installing collected packages: emcee\n",
      "Successfully installed emcee-3.0.0\n"
     ]
    }
   ],
   "source": [
    "!pip install emcee\n"
   ]
  },
  {
   "cell_type": "code",
   "execution_count": 54,
   "metadata": {},
   "outputs": [],
   "source": [
    "import emcee"
   ]
  },
  {
   "cell_type": "markdown",
   "metadata": {
    "colab_type": "text",
    "id": "yKZWpT8HMEz5"
   },
   "source": [
    "# **PART** II Due Friday 10/25 at midnight"
   ]
  },
  {
   "cell_type": "markdown",
   "metadata": {
    "colab_type": "text",
    "id": "06z_2DgBFjuS"
   },
   "source": [
    "# 6. Create a column with made up uncertainties: draw them as gaussian random variables from a gaussian centered at 0 and with a standard deviation of 10"
   ]
  },
  {
   "cell_type": "code",
   "execution_count": 55,
   "metadata": {
    "colab": {},
    "colab_type": "code",
    "id": "5n3G-QsoF5gF"
   },
   "outputs": [],
   "source": [
    "nam18_reducted[\"uncertainties\"] = 10 * np.random.randn(len(nam18_reducted.temp))"
   ]
  },
  {
   "cell_type": "markdown",
   "metadata": {
    "colab_type": "text",
    "id": "XsU5DSerI2Ry"
   },
   "source": [
    "# 7. Set up EMCEE for a MCMC model optimization"
   ]
  },
  {
   "cell_type": "markdown",
   "metadata": {
    "colab_type": "text",
    "id": "ER_BzoxdDnIp"
   },
   "source": [
    "Create a log-likelihood function like in the example https://emcee.readthedocs.io/en/stable/tutorials/line/. Note that the model generated in the emcee example is assuming a line model but also assuming that the uncertainties are underestimated! That is a really fun exercise! however, you do not have to do this part: modify the likelihood function (and prior etc) removing the piece referring to the uncertainty underestimation. Set a prior that limits the slope to positive values and the intercept to values between -10 and 10."
   ]
  },
  {
   "cell_type": "code",
   "execution_count": 253,
   "metadata": {
    "colab": {},
    "colab_type": "code",
    "id": "_HkvaqHVyfof"
   },
   "outputs": [],
   "source": [
    "def log_likelihood(theta, x, y, yerr):\n",
    "    \n",
    "    m, b = theta\n",
    "    model = m * x + b\n",
    "    sigma2 = yerr**2\n",
    "    return -0.5*np.sum((y-model)**2/sigma2 + np.log(sigma2))\n",
    "\n",
    "\n",
    "def log_prior(theta):\n",
    "    \n",
    "    m, b = theta\n",
    "    # uniform prior\n",
    "    if m > 0.0 and -10.0 < b < 10.0:\n",
    "        return 0.0\n",
    "    return -np.inf\n",
    "\n",
    "\n",
    "def log_probability(theta, x, y, yerr):\n",
    "    lp = log_prior(theta)\n",
    "    if not np.isfinite(lp):\n",
    "        return -np.inf\n",
    "\n",
    "    return lp + log_likelihood(theta, x, y, yerr)\n"
   ]
  },
  {
   "cell_type": "markdown",
   "metadata": {
    "colab_type": "text",
    "id": "z5w8cmm21N69"
   },
   "source": [
    "# 8 Run the emcee with 50 walkers and chains 3000 elements long"
   ]
  },
  {
   "cell_type": "code",
   "execution_count": 254,
   "metadata": {
    "scrolled": true
   },
   "outputs": [
    {
     "name": "stderr",
     "output_type": "stream",
     "text": [
      "100%|██████████| 3000/3000 [00:07<00:00, 428.04it/s]\n"
     ]
    }
   ],
   "source": [
    "nwalkers = 50\n",
    "ndim = 2    # number of parameters\n",
    "x = nam18_reducted.temp.values\n",
    "y = nam18_reducted.nstar.values\n",
    "yerr = nam18_reducted.uncertainties.values\n",
    "\n",
    "sampler = emcee.EnsembleSampler(nwalkers, ndim, log_probability, args=(x, y, yerr))\n",
    "\n",
    "m0, b0 = 1, -1\n",
    "pos =np.array([m0, b0]) + np.abs( np.random.randn(nwalkers, ndim) ) # initial parameters for 50 walkers, nwalker*ndim\n",
    "sampler.run_mcmc(initial_state=pos, nsteps=3000, progress=True);\n"
   ]
  },
  {
   "cell_type": "markdown",
   "metadata": {
    "colab_type": "text",
    "id": "5WB2zOGDG9Wm"
   },
   "source": [
    "# 9. plot the chains for slope and intercept, labelled accordingly. Remove from the chain the first 50 points. Discuss why that is a good idea."
   ]
  },
  {
   "cell_type": "code",
   "execution_count": 240,
   "metadata": {
    "scrolled": true
   },
   "outputs": [
    {
     "data": {
      "text/plain": [
       "(3000, 50, 3)"
      ]
     },
     "execution_count": 240,
     "metadata": {},
     "output_type": "execute_result"
    }
   ],
   "source": [
    "samples.shape"
   ]
  },
  {
   "cell_type": "code",
   "execution_count": 260,
   "metadata": {},
   "outputs": [
    {
     "data": {
      "image/png": "[encoded data removed]",
      "text/plain": [
       "<Figure size 720x504 with 2 Axes>"
      ]
     },
     "metadata": {
      "needs_background": "light"
     },
     "output_type": "display_data"
    }
   ],
   "source": [
    "fig, axes = plt.subplots(2, figsize=(10, 7), sharex=True)\n",
    "samples = sampler.get_chain()\n",
    "labels = [\"slope\", \"intercept\"]\n",
    "for i in range(ndim):\n",
    "    ax = axes[i]\n",
    "    ax.plot(samples[:,:, i], \"k\", alpha=0.3)\n",
    "    ax.set_xlim(0, len(samples))\n",
    "    ax.set_ylabel(labels[i])\n",
    "    ax.yaxis.set_label_coords(-0.1, 0.5)\n",
    "\n",
    "axes[-1].set_xlabel(\"step number\");\n"
   ]
  },
  {
   "cell_type": "markdown",
   "metadata": {},
   "source": [
    "Figure 4. Fit a line using MCMC. The final values of slope and intercept are close to results from ```statsmodels``` and ```curve_fit```."
   ]
  },
  {
   "cell_type": "markdown",
   "metadata": {
    "colab_type": "text",
    "id": "09OprlPQ0I7w"
   },
   "source": [
    "# Install the corner module"
   ]
  },
  {
   "cell_type": "code",
   "execution_count": 101,
   "metadata": {
    "colab": {
     "base_uri": "https://localhost:8080/",
     "height": 190
    },
    "colab_type": "code",
    "id": "-k_6Wh-jHIsb",
    "outputId": "9221db13-4d44-47dd-8a30-ce28449e5edc",
    "scrolled": false
   },
   "outputs": [
    {
     "name": "stdout",
     "output_type": "stream",
     "text": [
      "Collecting corner\n",
      "  Downloading https://files.pythonhosted.org/packages/65/af/a7ba022f2d5787f51db91b5550cbe8e8c40a6eebd8f15119e743a09a9c19/corner-2.0.1.tar.gz\n",
      "Requirement already satisfied: numpy in /Users/home/miniconda3/lib/python3.6/site-packages (from corner) (1.15.2)\n",
      "Requirement already satisfied: matplotlib in /Users/home/miniconda3/lib/python3.6/site-packages (from corner) (3.0.3)\n",
      "Requirement already satisfied: cycler>=0.10 in /Users/home/miniconda3/lib/python3.6/site-packages (from matplotlib->corner) (0.10.0)\n",
      "Requirement already satisfied: kiwisolver>=1.0.1 in /Users/home/miniconda3/lib/python3.6/site-packages (from matplotlib->corner) (1.0.1)\n",
      "Requirement already satisfied: pyparsing!=2.0.4,!=2.1.2,!=2.1.6,>=2.0.1 in /Users/home/miniconda3/lib/python3.6/site-packages (from matplotlib->corner) (2.3.0)\n",
      "Requirement already satisfied: python-dateutil>=2.1 in /Users/home/miniconda3/lib/python3.6/site-packages (from matplotlib->corner) (2.7.5)\n",
      "Requirement already satisfied: six in /Users/home/miniconda3/lib/python3.6/site-packages (from cycler>=0.10->matplotlib->corner) (1.11.0)\n",
      "Requirement already satisfied: setuptools in /Users/home/miniconda3/lib/python3.6/site-packages (from kiwisolver>=1.0.1->matplotlib->corner) (40.5.0)\n",
      "Building wheels for collected packages: corner\n",
      "  Running setup.py bdist_wheel for corner ... \u001b[?25ldone\n",
      "\u001b[?25h  Stored in directory: /Users/home/Library/Caches/pip/wheels/70/d8/e5/e0e7974a2a5757483ea5a180c937041cf6872dc9993d78234a\n",
      "Successfully built corner\n",
      "Installing collected packages: corner\n",
      "Successfully installed corner-2.0.1\n"
     ]
    }
   ],
   "source": [
    "!pip install corner"
   ]
  },
  {
   "cell_type": "code",
   "execution_count": 102,
   "metadata": {},
   "outputs": [],
   "source": [
    "import corner"
   ]
  },
  {
   "cell_type": "markdown",
   "metadata": {
    "colab_type": "text",
    "id": "r94tZW8qJNGO"
   },
   "source": [
    "# 10 plot the \"marginalized posterior distributions\" with the corner plot package\n",
    "label the axis \"slope\" and \"intercept\" appropriately"
   ]
  },
  {
   "cell_type": "code",
   "execution_count": 257,
   "metadata": {},
   "outputs": [],
   "source": [
    "flat_samples = sampler.get_chain(discard=100, thin=15, flat=True)\n"
   ]
  },
  {
   "cell_type": "code",
   "execution_count": 258,
   "metadata": {
    "scrolled": true
   },
   "outputs": [
    {
     "data": {
      "image/png": "[encoded data removed]",
      "text/plain": [
       "<Figure size 396x396 with 4 Axes>"
      ]
     },
     "metadata": {
      "needs_background": "light"
     },
     "output_type": "display_data"
    }
   ],
   "source": [
    "fig = corner.corner(flat_samples, labels=['slope', 'intercept'], truths=[1.64, -1.94])\n"
   ]
  },
  {
   "cell_type": "markdown",
   "metadata": {},
   "source": [
    "<span style=\"color:red\">**-5 pts: truth params should be acquired from the data**</span>"
   ]
  },
  {
   "cell_type": "markdown",
   "metadata": {},
   "source": [
    "Figure 5. The contour plot of samples. The final values of slope and intercept are close to results from ```statsmodels``` and ```curve_fit```."
   ]
  },
  {
   "cell_type": "markdown",
   "metadata": {
    "colab_type": "text",
    "id": "yFYEFBB3HdDp"
   },
   "source": [
    "#  EC Repeat for a parabola fit (this should be very quick now that you did the line fit! you need to define a new slightly different likelihood and prior, )"
   ]
  },
  {
   "cell_type": "code",
   "execution_count": 267,
   "metadata": {},
   "outputs": [],
   "source": [
    "def log_likelihood(theta, x, y, yerr):\n",
    "    \n",
    "    a, b, c = theta\n",
    "    model = a * x**2 + b * x + c\n",
    "    # model = polynomial(x, *theta)\n",
    "    sigma2 = yerr**2\n",
    "    return -0.5*np.sum((y-model)**2/sigma2 + np.log(sigma2))\n",
    "\n",
    "def log_prior(theta):\n",
    "    \n",
    "    a, b, c = theta\n",
    "    # uniform prior\n",
    "    if a > 0.0 and  b > 0.0 and -10.0 < c < 10.0:\n",
    "        return 0.0\n",
    "    return -np.inf\n",
    "\n",
    "def log_probability(theta, x, y, yerr):\n",
    "    lp = log_prior(theta)\n",
    "    if not np.isfinite(lp):\n",
    "        return -np.inf\n",
    "\n",
    "    return lp + log_likelihood(theta, x, y, yerr)\n"
   ]
  },
  {
   "cell_type": "code",
   "execution_count": 268,
   "metadata": {},
   "outputs": [
    {
     "name": "stderr",
     "output_type": "stream",
     "text": [
      "100%|██████████| 3000/3000 [00:08<00:00, 359.31it/s]\n"
     ]
    }
   ],
   "source": [
    "nwalkers = 50\n",
    "ndim = 3    # number of parameters\n",
    "x = nam18_reducted.temp.values\n",
    "y = nam18_reducted.nstar.values\n",
    "yerr = nam18_reducted.uncertainties.values\n",
    "\n",
    "sampler = emcee.EnsembleSampler(nwalkers, ndim, log_probability, args=(x, y, yerr))\n",
    "\n",
    "a0, b0, c0 = 1, 1, 1\n",
    "pos =np.array([a0, b0, c0]) + np.abs(np.random.randn(nwalkers, ndim)) # initial parameters for 50 walkers, nwalker*ndim\n",
    "sampler.run_mcmc(initial_state=pos, nsteps=3000, progress=True);\n"
   ]
  },
  {
   "cell_type": "code",
   "execution_count": 269,
   "metadata": {},
   "outputs": [
    {
     "data": {
      "image/png": "[encoded data removed]",
      "text/plain": [
       "<Figure size 720x504 with 3 Axes>"
      ]
     },
     "metadata": {
      "needs_background": "light"
     },
     "output_type": "display_data"
    }
   ],
   "source": [
    "fig, axes = plt.subplots(3, figsize=(10, 7), sharex=True)\n",
    "samples = sampler.get_chain()\n",
    "labels = [\"a\", \"b\", \"c\"]\n",
    "for i in range(ndim):\n",
    "    ax = axes[i]\n",
    "    ax.plot(samples[:,:, i], \"k\", alpha=0.3)\n",
    "    ax.set_xlim(0, len(samples))\n",
    "    ax.set_ylabel(labels[i])\n",
    "    ax.yaxis.set_label_coords(-0.1, 0.5)\n",
    "\n",
    "axes[-1].set_xlabel(\"step number\");\n"
   ]
  },
  {
   "cell_type": "markdown",
   "metadata": {},
   "source": [
    "Figure 6. Fit a parabola using MCMC. The final values of slope and intercept are close to results from ```statsmodels``` and ```curve_fit```."
   ]
  },
  {
   "cell_type": "code",
   "execution_count": 270,
   "metadata": {},
   "outputs": [],
   "source": [
    "flat_samples = sampler.get_chain(discard=100, thin=15, flat=True)\n"
   ]
  },
  {
   "cell_type": "code",
   "execution_count": 271,
   "metadata": {
    "scrolled": true
   },
   "outputs": [
    {
     "data": {
      "image/png": "[encoded data removed]",
      "text/plain": [
       "<Figure size 547.2x547.2 with 9 Axes>"
      ]
     },
     "metadata": {
      "needs_background": "light"
     },
     "output_type": "display_data"
    }
   ],
   "source": [
    "fig = corner.corner(flat_samples, labels=['a', 'b', 'c'], truths=[0., 1.62, -1.8])\n"
   ]
  },
  {
   "cell_type": "markdown",
   "metadata": {},
   "source": [
    "Figure 7. The contour plot of samples. The final values of slope and intercept are close to results from ```statsmodels``` and ```curve_fit```."
   ]
  },
  {
   "cell_type": "markdown",
   "metadata": {},
   "source": [
    "<span style=\"color:red\">**+7 pts: truth params should be acquired from the data**</span>"
   ]
  },
  {
   "cell_type": "code",
   "execution_count": null,
   "metadata": {},
   "outputs": [],
   "source": []
  }
 ],
 "metadata": {
  "colab": {
   "include_colab_link": true,
   "name": "LRtestAndMCMC.ipynb",
   "provenance": []
  },
  "kernelspec": {
   "display_name": "Python 3",
   "language": "python",
   "name": "python3"
  },
  "language_info": {
   "codemirror_mode": {
    "name": "ipython",
    "version": 3
   },
   "file_extension": ".py",
   "mimetype": "text/x-python",
   "name": "python",
   "nbconvert_exporter": "python",
   "pygments_lexer": "ipython3",
   "version": "3.6.8"
  }
 },
 "nbformat": 4,
 "nbformat_minor": 1
}
